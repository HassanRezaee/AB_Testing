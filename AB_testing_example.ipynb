{
 "cells": [
  {
   "cell_type": "code",
   "execution_count": 5,
   "id": "dfd20380",
   "metadata": {},
   "outputs": [
    {
     "name": "stdout",
     "output_type": "stream",
     "text": [
      "Sample Size: 1571.000\n"
     ]
    }
   ],
   "source": [
    "from statsmodels.stats.power import TTestIndPower\n",
    "\n",
    "# parameters for power analysis\n",
    "# effect_size has to be positive\n",
    "\n",
    "\n",
    "# 1. Determine sample size, sample_size = (16*sigma^2)/delta^2\n",
    "# sigma = sample variance is determined through an AA test, by\n",
    "# splitting the samples into two groups and then assign the same treatment to both\n",
    "\n",
    "# delta = the difference between control and treatment groups\n",
    "\n",
    "\n",
    "effect = 0.1  # standardized effect size, difference between the two means divided by the standard deviation\n",
    "alpha = 0.05\n",
    "power = 0.8\n",
    "\n",
    "# perform power analysis first\n",
    "analysis = TTestIndPower()\n",
    "\n",
    "result = analysis.solve_power(effect, power=power, nobs1=None, ratio=1.0, alpha = alpha)\n",
    "# The function gives out the value of the parameter that was set to None in the call\n",
    "\n",
    "# \"nobs1\": number of observations of sample 1. \n",
    "# The number of observations of sample two is ratio times the size of sample 1, i.e. nobs2 = nobs1 * ratio\n",
    "# \"ratio\": ratio of the number of observations in sample 2 relative to sample 1.\n",
    "# \"power\": power of the test, e.g. 0.8, is one minus the probability of a type II error. \n",
    "# Power is the probability that the test correctly rejects the Null Hypothesis if the Alternative Hypothesis is true.\n",
    "# \"alpha\": significance level, e.g. 0.05, is the probability of a type I error,\n",
    "\n",
    "\n",
    "# the computed number of samples required for each variant of the experiment.\n",
    "\n",
    "print('Sample Size: %.3f' % round(result))"
   ]
  },
  {
   "cell_type": "code",
   "execution_count": 47,
   "id": "f026deed",
   "metadata": {},
   "outputs": [
    {
     "name": "stdout",
     "output_type": "stream",
     "text": [
      "1600\n",
      "1749\n"
     ]
    },
    {
     "data": {
      "text/html": [
       "<div>\n",
       "<style scoped>\n",
       "    .dataframe tbody tr th:only-of-type {\n",
       "        vertical-align: middle;\n",
       "    }\n",
       "\n",
       "    .dataframe tbody tr th {\n",
       "        vertical-align: top;\n",
       "    }\n",
       "\n",
       "    .dataframe thead th {\n",
       "        text-align: right;\n",
       "    }\n",
       "</style>\n",
       "<table border=\"1\" class=\"dataframe\">\n",
       "  <thead>\n",
       "    <tr style=\"text-align: right;\">\n",
       "      <th></th>\n",
       "      <th>user_id</th>\n",
       "      <th>version</th>\n",
       "      <th>minutes_play</th>\n",
       "      <th>day_1_active</th>\n",
       "      <th>day_7_active</th>\n",
       "    </tr>\n",
       "  </thead>\n",
       "  <tbody>\n",
       "    <tr>\n",
       "      <th>0</th>\n",
       "      <td>1601</td>\n",
       "      <td>treatment</td>\n",
       "      <td>27.402511</td>\n",
       "      <td>False</td>\n",
       "      <td>False</td>\n",
       "    </tr>\n",
       "    <tr>\n",
       "      <th>1</th>\n",
       "      <td>1602</td>\n",
       "      <td>treatment</td>\n",
       "      <td>26.328132</td>\n",
       "      <td>False</td>\n",
       "      <td>False</td>\n",
       "    </tr>\n",
       "    <tr>\n",
       "      <th>2</th>\n",
       "      <td>1603</td>\n",
       "      <td>treatment</td>\n",
       "      <td>32.960470</td>\n",
       "      <td>False</td>\n",
       "      <td>False</td>\n",
       "    </tr>\n",
       "    <tr>\n",
       "      <th>3</th>\n",
       "      <td>1604</td>\n",
       "      <td>treatment</td>\n",
       "      <td>39.006769</td>\n",
       "      <td>False</td>\n",
       "      <td>False</td>\n",
       "    </tr>\n",
       "    <tr>\n",
       "      <th>4</th>\n",
       "      <td>1605</td>\n",
       "      <td>treatment</td>\n",
       "      <td>38.456182</td>\n",
       "      <td>False</td>\n",
       "      <td>True</td>\n",
       "    </tr>\n",
       "    <tr>\n",
       "      <th>...</th>\n",
       "      <td>...</td>\n",
       "      <td>...</td>\n",
       "      <td>...</td>\n",
       "      <td>...</td>\n",
       "      <td>...</td>\n",
       "    </tr>\n",
       "    <tr>\n",
       "      <th>1744</th>\n",
       "      <td>3345</td>\n",
       "      <td>treatment</td>\n",
       "      <td>18.178110</td>\n",
       "      <td>True</td>\n",
       "      <td>True</td>\n",
       "    </tr>\n",
       "    <tr>\n",
       "      <th>1745</th>\n",
       "      <td>3346</td>\n",
       "      <td>treatment</td>\n",
       "      <td>29.897803</td>\n",
       "      <td>False</td>\n",
       "      <td>False</td>\n",
       "    </tr>\n",
       "    <tr>\n",
       "      <th>1746</th>\n",
       "      <td>3347</td>\n",
       "      <td>treatment</td>\n",
       "      <td>21.512957</td>\n",
       "      <td>True</td>\n",
       "      <td>False</td>\n",
       "    </tr>\n",
       "    <tr>\n",
       "      <th>1747</th>\n",
       "      <td>3348</td>\n",
       "      <td>treatment</td>\n",
       "      <td>41.211080</td>\n",
       "      <td>True</td>\n",
       "      <td>False</td>\n",
       "    </tr>\n",
       "    <tr>\n",
       "      <th>1748</th>\n",
       "      <td>3349</td>\n",
       "      <td>treatment</td>\n",
       "      <td>29.626350</td>\n",
       "      <td>False</td>\n",
       "      <td>False</td>\n",
       "    </tr>\n",
       "  </tbody>\n",
       "</table>\n",
       "<p>1749 rows × 5 columns</p>\n",
       "</div>"
      ],
      "text/plain": [
       "      user_id    version  minutes_play  day_1_active  day_7_active\n",
       "0        1601  treatment     27.402511         False         False\n",
       "1        1602  treatment     26.328132         False         False\n",
       "2        1603  treatment     32.960470         False         False\n",
       "3        1604  treatment     39.006769         False         False\n",
       "4        1605  treatment     38.456182         False          True\n",
       "...       ...        ...           ...           ...           ...\n",
       "1744     3345  treatment     18.178110          True          True\n",
       "1745     3346  treatment     29.897803         False         False\n",
       "1746     3347  treatment     21.512957          True         False\n",
       "1747     3348  treatment     41.211080          True         False\n",
       "1748     3349  treatment     29.626350         False         False\n",
       "\n",
       "[1749 rows x 5 columns]"
      ]
     },
     "execution_count": 47,
     "metadata": {},
     "output_type": "execute_result"
    }
   ],
   "source": [
    "# simulate data. Five variables are simulated:\n",
    "# 1. userid\n",
    "# 2. version\n",
    "# 3. minutes of play\n",
    "# 4. user engagement after 1 day\n",
    "# 5. user engagement after 7 days\n",
    "\n",
    "# We will simulate 1600 control units and 1749 treated units\n",
    "\n",
    "# Variable # 1: userid\n",
    "user_id_control = list(range(1,1601))\n",
    "user_id_treatment = list(range(1601,1601+1749))\n",
    "\n",
    "print(len(user_id_control))\n",
    "print(len(user_id_treatment))\n",
    "\n",
    "\n",
    "# Variable # 2: version\n",
    "import numpy as np\n",
    "control_status = ['control']*1600\n",
    "treatment_status = ['treatment']*1749\n",
    "\n",
    "# Variable # 3: minutes of play ~ N(mu1=30minutes, sigma1^2=10)\n",
    "# Based on the definition of MDE (Minimum Detectable Effect) = (mu_1 - mu_2)/sigma^2\n",
    "# Considering mu_1=30, MDE = 0.1 and sigma2^2=10, mu_2 will compute as 31\n",
    "mu_1 = 30; sigma1_squared = 10\n",
    "minutes_control = np.random.normal(loc=mu_1, scale=sigma1_squared, size=1600)\n",
    "\n",
    "mu_2 = 31; sigma2_squared = 10\n",
    "minutes_treatment = np.random.normal(loc=mu_2, scale=sigma2_squared, size=1749)\n",
    "\n",
    "\n",
    "\n",
    "# Variable # 4: user engagement after 1 day (metric 1)\n",
    "# We assume that control group has 30% active (True) and 70% inactive (False) users after 1 day\n",
    "# Also we assume that the treatment group has 35% active and 65% inactive users\n",
    "active_status = [True, False]\n",
    "day_1_control = np.random.choice(active_status, 1600, p=[0.3, 0.7])\n",
    "day_1_treatment = np.random.choice(active_status, 1749, p=[0.35, 0.65])\n",
    "\n",
    "\n",
    "# Variable # 5: user engagement after 7 days (metric 2)\n",
    "# We assume that control group has 35% active (True) after 7 days\n",
    "# Also we assume that the treatment group has 25% active\n",
    "day_7_control = np.random.choice(active_status, 1600, p=[0.35, 0.65])\n",
    "day_7_treatment = np.random.choice(active_status, 1749, p=[0.25, 0.75])\n",
    "\n",
    "\n",
    "\n",
    "# Form dataframes from simulated variables\n",
    "import pandas as pd\n",
    "raw_control = {'user_id':user_id_control,\n",
    "               'version':control_status,\n",
    "               'minutes_play':minutes_control,\n",
    "               'day_1_active':day_1_control,\n",
    "               'day_7_active':day_7_control\n",
    "                }\n",
    "\n",
    "control_group = pd.DataFrame(data = raw_control)\n",
    "control_group\n",
    "\n",
    "\n",
    "raw_treatment = {'user_id': user_id_treatment,\n",
    "                 'version':treatment_status,\n",
    "                 'minutes_play':minutes_treatment,\n",
    "                 'day_1_active': day_1_treatment,\n",
    "                 'day_7_active':day_7_treatment}\n",
    "treatment_group = pd.DataFrame(data= raw_treatment)\n",
    "treatment_group"
   ]
  },
  {
   "cell_type": "code",
   "execution_count": 58,
   "id": "d8ff86f7",
   "metadata": {},
   "outputs": [
    {
     "data": {
      "text/plain": [
       "Text(0, 0.5, 'User Count')"
      ]
     },
     "execution_count": 58,
     "metadata": {},
     "output_type": "execute_result"
    },
    {
     "data": {
      "image/png": "[encoded data removed]",
      "text/plain": [
       "<Figure size 432x288 with 1 Axes>"
      ]
     },
     "metadata": {
      "needs_background": "light"
     },
     "output_type": "display_data"
    }
   ],
   "source": [
    " # Step 3: data analysis\n",
    "    \n",
    "# 3.1. check how many users fell into each variant.\n",
    "final_data = [control_group, treatment_group]\n",
    "\n",
    "final_data = pd.concat(final_data)\n",
    "from sklearn.utils import shuffle\n",
    "final_data = shuffle(final_data)\n",
    "final_data.head()\n",
    "\n",
    "# first we check how many samples of each group we have\n",
    "final_data.groupby('version')['user_id'].count()\n",
    "# the group sizes are not equal: we should be suspicious now.\n",
    "\n",
    "# To formally check for the Sample Ratio Mismatch, SRM, we conduct a chi-square test between \n",
    "# the actual split and the expected split of the treated and control units (Kohavi et al. 2020).\n",
    "from scipy.stats import chisquare\n",
    "chisquare(f_obs = [1600, 1749], f_exp = [1675, 1674])\n",
    "# f_obs: observed frequencies in each category.\n",
    "# f_exp: expected frequencies in each category. By default the categories are assumed to be equally likely.\n",
    "\n",
    "# We set the alpha level at 0.001 to test SRM. Since the p-value is < 0.01,\n",
    "# we fail to reject the null hypothesis and we can conclude there is no evidence of SRM.\n",
    "# In contrast to our intuition, statistical tests conclude that the treatment assignment works as expected.\n",
    "\n",
    "\n",
    "\n",
    "%matplotlib inline\n",
    "final_data['minutes_play_integers'] = round(final_data['minutes_play'])\n",
    "plot_df = final_data.groupby('minutes_play_integers')['user_id'].count()\n",
    "# Plot the distribution of players that played 0 to 50 minutes\n",
    "ax = plot_df.head(n=50).plot(x='minutes_play_integers', y='user_id', kind='hist')\n",
    "ax.set_xlabel('Duration of Video Played in Minutes')\n",
    "ax.set_ylabel('User Count')"
   ]
  },
  {
   "cell_type": "code",
   "execution_count": 62,
   "id": "67db263c",
   "metadata": {
    "scrolled": true
   },
   "outputs": [
    {
     "data": {
      "text/plain": [
       "<AxesSubplot:ylabel='Density'>"
      ]
     },
     "execution_count": 62,
     "metadata": {},
     "output_type": "execute_result"
    },
    {
     "data": {
      "image/png": "[encoded data removed]",
      "text/plain": [
       "<Figure size 432x288 with 1 Axes>"
      ]
     },
     "metadata": {
      "needs_background": "light"
     },
     "output_type": "display_data"
    }
   ],
   "source": [
    "#  Metric 1: 1-day retention by AB-Group\n",
    "\n",
    "final_data['day_1_active'].mean()\n",
    "# After 1 day, the overall active user rate, on average, hovers around 32.5%\n",
    "\n",
    "final_data.groupby('version')['day_1_active'].mean()\n",
    "\n",
    "# After ovserving there is a differene between the means of the groups, we should ask the questions:\n",
    "\n",
    "# Is the higher retention rate in the treatment group statistically significant?\n",
    "# What is its variability?\n",
    "# If we repeat the process for 10,000 times, how often do we observe at least as extreme values?\n",
    "\n",
    "\n",
    "# To answer these questions we use the Bootstrap sampling:\n",
    "boot_means = []\n",
    "\n",
    "# run the simulation for 10k times\n",
    "for _ in range(10000):\n",
    "    boot_sample = final_data.sample(frac=1, replace=True).groupby('version')['day_1_active'].mean()\n",
    "    boot_means.append(boot_sample)\n",
    "\n",
    "boot_means = pd.DataFrame(boot_means)\n",
    "# kernel density estimate\n",
    "boot_means.plot(kind='kde')"
   ]
  },
  {
   "cell_type": "code",
   "execution_count": 66,
   "id": "6cc0fc78",
   "metadata": {
    "scrolled": true
   },
   "outputs": [
    {
     "data": {
      "text/plain": [
       "Text(0.5, 0, '% diff in means')"
      ]
     },
     "execution_count": 66,
     "metadata": {},
     "output_type": "execute_result"
    },
    {
     "data": {
      "image/png": "[encoded data removed]",
      "text/plain": [
       "<Figure size 432x288 with 1 Axes>"
      ]
     },
     "metadata": {
      "needs_background": "light"
     },
     "output_type": "display_data"
    }
   ],
   "source": [
    "# create a new column, diff, as the difference between the two variants, scaled by the control group\n",
    "boot_means['diff'] = (boot_means['treatment'] - boot_means['control']) / boot_means['control'] * 100\n",
    "boot_means['diff']\n",
    "\n",
    "# plot the bootstrap sample differenccecs\n",
    "ax = boot_means['diff'].plot(kind='kde')\n",
    "ax.set_xlabel('% diff in means')"
   ]
  },
  {
   "cell_type": "code",
   "execution_count": 69,
   "id": "7f8f4809",
   "metadata": {},
   "outputs": [
    {
     "data": {
      "text/plain": [
       "0.9995"
      ]
     },
     "execution_count": 69,
     "metadata": {},
     "output_type": "execute_result"
    }
   ],
   "source": [
    "boot_means[boot_means['diff'] > 0]\n",
    "# p-value\n",
    "p = (boot_means['diff'] > 0).sum() / len(boot_means)\n",
    "p\n",
    "\n",
    "# Conclusion: After bootstrapping 10,000 times, the treatment has a higher 1-day retention rate 99.95% of the time."
   ]
  },
  {
   "cell_type": "code",
   "execution_count": 73,
   "id": "502de664",
   "metadata": {},
   "outputs": [],
   "source": [
    "# Repeat the same for 7-day metric\n",
    "\n",
    "boot_7d = []\n",
    "\n",
    "for i in range(10000):\n",
    "    #set frac=1 --> sample all rows\n",
    "    boot_mean = final_data.sample(frac=1,replace=True).groupby('version')['day_7_active'].mean() \n",
    "    boot_7d.append(boot_mean)\n",
    "    \n",
    "boot_7d = pd.DataFrame(boot_7d)\n",
    "\n",
    "boot_7d['diff'] = (boot_7d['treatment'] - boot_7d['control'])/boot_7d['control'] *100"
   ]
  },
  {
   "cell_type": "code",
   "execution_count": 74,
   "id": "8a5520fa",
   "metadata": {},
   "outputs": [
    {
     "data": {
      "text/plain": [
       "Text(0.5, 0, '% diff in means')"
      ]
     },
     "execution_count": 74,
     "metadata": {},
     "output_type": "execute_result"
    },
    {
     "data": {
      "image/png": "[encoded data removed]",
      "text/plain": [
       "<Figure size 432x288 with 1 Axes>"
      ]
     },
     "metadata": {
      "needs_background": "light"
     },
     "output_type": "display_data"
    }
   ],
   "source": [
    "# Ploting the bootstrap % difference\n",
    "ax = boot_7d['diff'].plot(kind = 'kde')\n",
    "ax.set_xlabel(\"% diff in means\")"
   ]
  },
  {
   "cell_type": "code",
   "execution_count": 75,
   "id": "5b0d3f7c",
   "metadata": {},
   "outputs": [
    {
     "data": {
      "text/plain": [
       "1.0"
      ]
     },
     "execution_count": 75,
     "metadata": {},
     "output_type": "execute_result"
    }
   ],
   "source": [
    "# Calculating the probability that 7-day retention is greater when the gate is at level 30\n",
    "p = (boot_7d['diff']>0).sum()/len(boot_7d)\n",
    "\n",
    "1-p\n",
    "\n",
    "# On the 7-day metric, the control obviously has a better user retention rate 100% of the \n",
    "# time, also consistent with the original data."
   ]
  },
  {
   "cell_type": "code",
   "execution_count": null,
   "id": "eceb5925",
   "metadata": {},
   "outputs": [],
   "source": [
    "### Best Practices\n",
    "# 1. SRM is a real concern. We apply a chi-square test to formally test for the SRM. \n",
    "   # If the p-value is smaller than the threshold (α = 0.001), the randomization process does not work as expected.\n",
    "\n",
    "# 2. An SRM introduces selection bias that invalidates any test results.\n",
    "# 3. Three fundamental statistical concepts to master: SRM, chi-square test, and bootstrap.\n",
    "# 4. Compare short-term and long-term metrics to evaluate the novelty effect.\n"
   ]
  }
 ],
 "metadata": {
  "kernelspec": {
   "display_name": "Python 3 (ipykernel)",
   "language": "python",
   "name": "python3"
  },
  "language_info": {
   "codemirror_mode": {
    "name": "ipython",
    "version": 3
   },
   "file_extension": ".py",
   "mimetype": "text/x-python",
   "name": "python",
   "nbconvert_exporter": "python",
   "pygments_lexer": "ipython3",
   "version": "3.9.7"
  }
 },
 "nbformat": 4,
 "nbformat_minor": 5
}
